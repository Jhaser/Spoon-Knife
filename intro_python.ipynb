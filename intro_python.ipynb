{
  "nbformat": 4,
  "nbformat_minor": 0,
  "metadata": {
    "colab": {
      "name": "intro_python.ipynb",
      "provenance": [],
      "include_colab_link": true
    },
    "kernelspec": {
      "display_name": "Python 3",
      "language": "python",
      "name": "python3"
    },
    "language_info": {
      "codemirror_mode": {
        "name": "ipython",
        "version": 3
      },
      "file_extension": ".py",
      "mimetype": "text/x-python",
      "name": "python",
      "nbconvert_exporter": "python",
      "pygments_lexer": "ipython3",
      "version": "3.7.4"
    },
    "toc": {
      "base_numbering": 1,
      "nav_menu": {},
      "number_sections": true,
      "sideBar": true,
      "skip_h1_title": false,
      "title_cell": "Table of Contents",
      "title_sidebar": "Contents",
      "toc_cell": false,
      "toc_position": {},
      "toc_section_display": true,
      "toc_window_display": false
    }
  },
  "cells": [
    {
      "cell_type": "markdown",
      "metadata": {
        "id": "view-in-github",
        "colab_type": "text"
      },
      "source": [
        "<a href=\"https://colab.research.google.com/github/Jhaser/Spoon-Knife/blob/change-the-title/intro_python.ipynb\" target=\"_parent\"><img src=\"https://colab.research.google.com/assets/colab-badge.svg\" alt=\"Open In Colab\"/></a>"
      ]
    },
    {
      "cell_type": "code",
      "metadata": {
        "colab": {
          "base_uri": "https://localhost:8080/"
        },
        "id": "FYtpQ4GD0j6C",
        "outputId": "c7c3d4b6-94c4-44f1-83b3-a09654f284df"
      },
      "source": [
        "print(\"Hello, world!\")"
      ],
      "execution_count": 6,
      "outputs": [
        {
          "output_type": "stream",
          "text": [
            "Hello, world!\n"
          ],
          "name": "stdout"
        }
      ]
    },
    {
      "cell_type": "code",
      "metadata": {
        "colab": {
          "base_uri": "https://localhost:8080/"
        },
        "id": "OcNoWjxm091U",
        "outputId": "a8970180-a2d2-4590-df8f-e2ed785d0d9d"
      },
      "source": [
        "class Example(object):\n",
        "    def output(self, value):\n",
        "        if isinstance(value, str):\n",
        "            return value\n",
        "        else:\n",
        "            return \"ERROR: String expected!\"\n",
        "    \n",
        "my_example = Example()\n",
        "\n",
        "print(my_example.output(5))"
      ],
      "execution_count": 7,
      "outputs": [
        {
          "output_type": "stream",
          "text": [
            "ERROR: String expected!\n"
          ],
          "name": "stdout"
        }
      ]
    },
    {
      "cell_type": "code",
      "metadata": {
        "colab": {
          "base_uri": "https://localhost:8080/"
        },
        "id": "SLaTzj15L2LZ",
        "outputId": "bcbd8b63-e49e-4262-8fb5-de1ce35ebf74"
      },
      "source": [
        "# The None type\n",
        "something = None\n",
        "\n",
        "# The Boolean type\n",
        "is_tired = True\n",
        "\n",
        "#The Integer type\n",
        "age = 35\n",
        "print(1+1*2/5)\n",
        "\n",
        "#The Float type\n",
        "half = 0.5\n",
        "\n",
        "#The String type\n",
        "message = \"Hello World\"\n",
        "\n",
        "#The List type\n",
        "numbers = [1,2,3,4]\n",
        "mixed_list = ['Hello',1,True,None]\n",
        "matrix = [[1,2],[3,4]]\n",
        "\n",
        "#The Dictionary type\n",
        "person = {\n",
        "    'name':'Ali',\n",
        "    'age':18,\n",
        "    'address':{\n",
        "        'country':'Singapore',\n",
        "        'zip': '123456'\n",
        "    }\n",
        "}\n",
        "\n",
        "print(type(something))\n",
        "print(type(is_tired))\n",
        "print(type(age))\n",
        "print(type(half))\n",
        "print(type(message))\n",
        "print(type(numbers))\n",
        "print(type(person))"
      ],
      "execution_count": 8,
      "outputs": [
        {
          "output_type": "stream",
          "text": [
            "1.4\n",
            "<class 'NoneType'>\n",
            "<class 'bool'>\n",
            "<class 'int'>\n",
            "<class 'float'>\n",
            "<class 'str'>\n",
            "<class 'list'>\n",
            "<class 'dict'>\n"
          ],
          "name": "stdout"
        }
      ]
    },
    {
      "cell_type": "code",
      "metadata": {
        "colab": {
          "base_uri": "https://localhost:8080/"
        },
        "id": "uzvbBh8401BF",
        "outputId": "5f74818b-2dac-454c-894c-89fcea0e7c03"
      },
      "source": [
        "something = None\n",
        "print(something)\n",
        "print(type(something))"
      ],
      "execution_count": 9,
      "outputs": [
        {
          "output_type": "stream",
          "text": [
            "None\n",
            "<class 'NoneType'>\n"
          ],
          "name": "stdout"
        }
      ]
    },
    {
      "cell_type": "code",
      "metadata": {
        "colab": {
          "base_uri": "https://localhost:8080/"
        },
        "id": "xgwnvVNd8kGW",
        "outputId": "80b1931f-093f-4279-d283-85b2802f6ef8"
      },
      "source": [
        "print(is_tired)"
      ],
      "execution_count": 10,
      "outputs": [
        {
          "output_type": "stream",
          "text": [
            "True\n"
          ],
          "name": "stdout"
        }
      ]
    },
    {
      "cell_type": "code",
      "metadata": {
        "colab": {
          "base_uri": "https://localhost:8080/"
        },
        "id": "dXqSzTfWJot3",
        "outputId": "f621a1da-52af-43e2-8209-5d2f24d7eee2"
      },
      "source": [
        "age = 35\n",
        "print(age)"
      ],
      "execution_count": 11,
      "outputs": [
        {
          "output_type": "stream",
          "text": [
            "35\n"
          ],
          "name": "stdout"
        }
      ]
    },
    {
      "cell_type": "code",
      "metadata": {
        "colab": {
          "base_uri": "https://localhost:8080/"
        },
        "id": "-6VjyO0fJt7K",
        "outputId": "a71aaf1c-7272-4737-8fbb-606fcfc0a002"
      },
      "source": [
        "print(5+5)\n",
        "print(10-5-5)\n",
        "print(2*2)"
      ],
      "execution_count": 12,
      "outputs": [
        {
          "output_type": "stream",
          "text": [
            "10\n",
            "0\n",
            "4\n"
          ],
          "name": "stdout"
        }
      ]
    },
    {
      "cell_type": "code",
      "metadata": {
        "colab": {
          "base_uri": "https://localhost:8080/"
        },
        "id": "vdZ15FFfJ9KI",
        "outputId": "31d00325-9f43-495e-c13f-9925fb1d3fc6"
      },
      "source": [
        "# Careful when you divide integers!\n",
        "# In Python 2.7, when you divide 2 integers, the result is a whole number.\n",
        "# In Python 3.x, the result will be a float.\n",
        "\n",
        "print(22/10)"
      ],
      "execution_count": 13,
      "outputs": [
        {
          "output_type": "stream",
          "text": [
            "2.2\n"
          ],
          "name": "stdout"
        }
      ]
    },
    {
      "cell_type": "code",
      "metadata": {
        "colab": {
          "base_uri": "https://localhost:8080/"
        },
        "id": "117ozyLc6rJN",
        "outputId": "b330d449-97ef-4ac0-9458-fb756dfba7a1"
      },
      "source": [
        "half = 0.5\n",
        "\n",
        "print(half)\n",
        "print(1/2)\n",
        "print(1/2.0)"
      ],
      "execution_count": 14,
      "outputs": [
        {
          "output_type": "stream",
          "text": [
            "0.5\n",
            "0.5\n",
            "0.5\n"
          ],
          "name": "stdout"
        }
      ]
    },
    {
      "cell_type": "code",
      "metadata": {
        "colab": {
          "base_uri": "https://localhost:8080/"
        },
        "id": "LuCyk6329cw0",
        "outputId": "a7846dd8-d62f-462e-9d10-ed51467ffa2f"
      },
      "source": [
        "name = \"Ali\"\n",
        "name = 'Ali'\n",
        "\n",
        "message = 'He said:\\n\"Let\\'s do this\"'\n",
        "print(message)"
      ],
      "execution_count": 15,
      "outputs": [
        {
          "output_type": "stream",
          "text": [
            "He said:\n",
            "\"Let's do this\"\n"
          ],
          "name": "stdout"
        }
      ]
    },
    {
      "cell_type": "code",
      "metadata": {
        "colab": {
          "base_uri": "https://localhost:8080/"
        },
        "id": "SB_Jl5Zd9b8y",
        "outputId": "9a47ec21-8ce3-4cbe-a403-70728dfcf830"
      },
      "source": [
        "string1 = 'Hello'\n",
        "string2 = 'World'\n",
        "\n",
        "print(string1 + \" \" + string2)"
      ],
      "execution_count": 16,
      "outputs": [
        {
          "output_type": "stream",
          "text": [
            "Hello World\n"
          ],
          "name": "stdout"
        }
      ]
    },
    {
      "cell_type": "code",
      "metadata": {
        "colab": {
          "base_uri": "https://localhost:8080/"
        },
        "id": "h7eBa3FGLzCD",
        "outputId": "250ea610-a1c7-47c6-d9a6-69ebded4461b"
      },
      "source": [
        "address = 'Tampines Str 21'\n",
        "address = address.replace('Str', 'Street')\n",
        "print(address)"
      ],
      "execution_count": 17,
      "outputs": [
        {
          "output_type": "stream",
          "text": [
            "Tampines Street 21\n"
          ],
          "name": "stdout"
        }
      ]
    },
    {
      "cell_type": "code",
      "metadata": {
        "colab": {
          "base_uri": "https://localhost:8080/"
        },
        "id": "QTV0o_8FMUnv",
        "outputId": "c08a3827-4588-4638-e1a8-d7303ef3e812"
      },
      "source": [
        "age = 35\n",
        "message = 'I am {} years old'.format(age)\n",
        "print(message)"
      ],
      "execution_count": 18,
      "outputs": [
        {
          "output_type": "stream",
          "text": [
            "I am 35 years old\n"
          ],
          "name": "stdout"
        }
      ]
    },
    {
      "cell_type": "code",
      "metadata": {
        "colab": {
          "base_uri": "https://localhost:8080/"
        },
        "id": "YVwH5zzONkvN",
        "outputId": "3044a9d5-e79d-4891-99be-c4463073c994"
      },
      "source": [
        "empty = []\n",
        "colours = ['blue','red']\n",
        "print(colours)\n",
        "print(colours[0])"
      ],
      "execution_count": 19,
      "outputs": [
        {
          "output_type": "stream",
          "text": [
            "['blue', 'red']\n",
            "blue\n"
          ],
          "name": "stdout"
        }
      ]
    },
    {
      "cell_type": "code",
      "metadata": {
        "colab": {
          "base_uri": "https://localhost:8080/"
        },
        "id": "9WpLjYzyN7IO",
        "outputId": "bb48ff64-cecc-4fab-f218-0117095477c9"
      },
      "source": [
        "# You can add items to a list\n",
        "\n",
        "colours = ['blue','red'] #already defined above\n",
        "\n",
        "colours.append('green')\n",
        "print(colours)\n",
        "\n",
        "colours.insert(0,'black')\n",
        "print(colours)"
      ],
      "execution_count": 20,
      "outputs": [
        {
          "output_type": "stream",
          "text": [
            "['blue', 'red', 'green']\n",
            "['black', 'blue', 'red', 'green']\n"
          ],
          "name": "stdout"
        }
      ]
    },
    {
      "cell_type": "code",
      "metadata": {
        "colab": {
          "base_uri": "https://localhost:8080/",
          "height": 214
        },
        "id": "gJgqysMTOdGY",
        "outputId": "9179b8fe-d049-4229-b9a3-a5a7d32f1c01"
      },
      "source": [
        "colours = ('blue','red')\n",
        "print(colours)\n",
        "\n",
        "# This line will crash, cause an error\n",
        "colours.append('green')"
      ],
      "execution_count": 21,
      "outputs": [
        {
          "output_type": "stream",
          "text": [
            "('blue', 'red')\n"
          ],
          "name": "stdout"
        },
        {
          "output_type": "error",
          "ename": "AttributeError",
          "evalue": "ignored",
          "traceback": [
            "\u001b[0;31m---------------------------------------------------------------------------\u001b[0m",
            "\u001b[0;31mAttributeError\u001b[0m                            Traceback (most recent call last)",
            "\u001b[0;32m<ipython-input-21-942432b7d3ec>\u001b[0m in \u001b[0;36m<module>\u001b[0;34m()\u001b[0m\n\u001b[1;32m      3\u001b[0m \u001b[0;34m\u001b[0m\u001b[0m\n\u001b[1;32m      4\u001b[0m \u001b[0;31m# This line will crash, cause an error\u001b[0m\u001b[0;34m\u001b[0m\u001b[0;34m\u001b[0m\u001b[0;34m\u001b[0m\u001b[0m\n\u001b[0;32m----> 5\u001b[0;31m \u001b[0mcolours\u001b[0m\u001b[0;34m.\u001b[0m\u001b[0mappend\u001b[0m\u001b[0;34m(\u001b[0m\u001b[0;34m'green'\u001b[0m\u001b[0;34m)\u001b[0m\u001b[0;34m\u001b[0m\u001b[0;34m\u001b[0m\u001b[0m\n\u001b[0m",
            "\u001b[0;31mAttributeError\u001b[0m: 'tuple' object has no attribute 'append'"
          ]
        }
      ]
    },
    {
      "cell_type": "code",
      "metadata": {
        "colab": {
          "base_uri": "https://localhost:8080/"
        },
        "id": "AphGcuJ2O0KN",
        "outputId": "5e3b6a22-0d5c-4f5d-865a-915efd4bb056"
      },
      "source": [
        "person = {\n",
        "    'name':'Ali',\n",
        "    'age':18,\n",
        "    'address':{\n",
        "        'country':'Singapore',\n",
        "        'zip': '123456'\n",
        "    }\n",
        "}\n",
        "\n",
        "print(person)\n",
        "print(person['name'])\n",
        "print(person['address']['country'])"
      ],
      "execution_count": 22,
      "outputs": [
        {
          "output_type": "stream",
          "text": [
            "{'name': 'Ali', 'age': 18, 'address': {'country': 'Singapore', 'zip': '123456'}}\n",
            "Ali\n",
            "Singapore\n"
          ],
          "name": "stdout"
        }
      ]
    },
    {
      "cell_type": "code",
      "metadata": {
        "id": "MMn-Ngc74aA2"
      },
      "source": [
        "person = {\n",
        "    'name':'Ali'\n",
        "}\n",
        "\n",
        "person['age'] = 35\n",
        "\n",
        "\n",
        "print(person)"
      ],
      "execution_count": null,
      "outputs": []
    },
    {
      "cell_type": "code",
      "metadata": {
        "id": "RRcva2Ze4805"
      },
      "source": [
        "print(person.keys())"
      ],
      "execution_count": null,
      "outputs": []
    },
    {
      "cell_type": "markdown",
      "metadata": {
        "id": "yOTsZr6H7Ny5"
      },
      "source": [
        "# Functions"
      ]
    },
    {
      "cell_type": "code",
      "metadata": {
        "id": "rgjKZngw5jE_"
      },
      "source": [
        "def squared(value):\n",
        "    return value * value\n",
        "\n",
        "#anything that has not been idented to the right is not part of the function.\n",
        "results = squared(2)\n",
        "\n",
        "print(results)"
      ],
      "execution_count": null,
      "outputs": []
    },
    {
      "cell_type": "code",
      "metadata": {
        "colab": {
          "base_uri": "https://localhost:8080/"
        },
        "id": "Y0XirgQw7yLN",
        "outputId": "ac9e440f-ae49-42c2-94c1-aea2d5821595"
      },
      "source": [
        "def concat(string1, string2):\n",
        "    return string1 + ' ' + string2\n",
        "\n",
        "result = concat('Hello', 'World')\n",
        "\n",
        "print(result)"
      ],
      "execution_count": 30,
      "outputs": [
        {
          "output_type": "stream",
          "text": [
            "Hello World\n"
          ],
          "name": "stdout"
        }
      ]
    },
    {
      "cell_type": "code",
      "metadata": {
        "id": "TpujhPPUEQtx"
      },
      "source": [
        "def address(name, country, city, street, postcode):\n",
        "    return '{}\\n{}\\n{} {}\\n{}'.format(name, street, city, postcode, country)\n",
        "\n",
        "result = address('John', 'Singapore', 'Singapore', '8 Claymore Hill', 229572)\n",
        "print(result)"
      ],
      "execution_count": null,
      "outputs": []
    },
    {
      "cell_type": "code",
      "metadata": {
        "colab": {
          "base_uri": "https://localhost:8080/"
        },
        "id": "ZvA9RkifGAgI",
        "outputId": "d50a90c3-ead7-4ac1-9fb2-9de6d4ab9aed"
      },
      "source": [
        "def address(name=None, \n",
        "            country='Singapore', \n",
        "            city='Singapore', \n",
        "            street=None, \n",
        "            postcode=None):\n",
        "    return '{}\\n{}\\n{} {}\\n{}'.format(name, street, city, postcode, country)\n",
        "\n",
        "result = address(name='John', street='8 Claymore Hill', postcode=229572)\n",
        "'''\n",
        "there is no need to input 'Singapore' because \n",
        "they were already specified as default values \n",
        "for the 2 arguments city and country.\n",
        "'''\n",
        "\n",
        "print(result)"
      ],
      "execution_count": 31,
      "outputs": [
        {
          "output_type": "stream",
          "text": [
            "John\n",
            "8 Claymore Hill\n",
            "Singapore 229572\n",
            "Singapore\n"
          ],
          "name": "stdout"
        }
      ]
    },
    {
      "cell_type": "markdown",
      "metadata": {
        "id": "CtPyDJGgIK5f"
      },
      "source": [
        "# Classes"
      ]
    },
    {
      "cell_type": "code",
      "metadata": {
        "id": "HrJPCVgYHWqC"
      },
      "source": [
        "class Animal(object): #it is convention to capitalize class names\n",
        "    legs=4\n",
        "    speed=0\n",
        "    \n",
        "    def run(self):\n",
        "        self.speed=10\n",
        "        \n",
        "# for explanation of self, refer to:\n",
        "# https://pythontips.com/2013/08/07/the-self-variable-in-python-explained/"
      ],
      "execution_count": 33,
      "outputs": []
    },
    {
      "cell_type": "code",
      "metadata": {
        "colab": {
          "base_uri": "https://localhost:8080/"
        },
        "id": "cUhJBEjuIzow",
        "outputId": "e2f954ce-da6d-4216-db57-d3176b7b4407"
      },
      "source": [
        "my_pet = Animal()\n",
        "my_pet.run()\n",
        "\n",
        "print(my_pet.speed)"
      ],
      "execution_count": 34,
      "outputs": [
        {
          "output_type": "stream",
          "text": [
            "10\n"
          ],
          "name": "stdout"
        }
      ]
    },
    {
      "cell_type": "code",
      "metadata": {
        "id": "TGUqkNFvJDtE"
      },
      "source": [
        "class Dog(Animal):\n",
        "    def bark(self):\n",
        "        print('WOOF! WOOF!')\n",
        "        "
      ],
      "execution_count": 25,
      "outputs": []
    },
    {
      "cell_type": "code",
      "metadata": {
        "colab": {
          "base_uri": "https://localhost:8080/"
        },
        "id": "FpCh96ndKBcs",
        "outputId": "877b85fa-e5d2-4e57-d75c-039d5fd4044f"
      },
      "source": [
        "my_terrier = Dog()\n",
        "\n",
        "\n",
        "my_terrier.bark()\n",
        "\n",
        "my_terrier.legs"
      ],
      "execution_count": 26,
      "outputs": [
        {
          "output_type": "stream",
          "text": [
            "WOOF! WOOF!\n"
          ],
          "name": "stdout"
        },
        {
          "output_type": "execute_result",
          "data": {
            "text/plain": [
              "4"
            ]
          },
          "metadata": {
            "tags": []
          },
          "execution_count": 26
        }
      ]
    },
    {
      "cell_type": "code",
      "metadata": {
        "colab": {
          "base_uri": "https://localhost:8080/"
        },
        "id": "spDDT1QXKO-O",
        "outputId": "3c7add72-59c6-4974-e555-34c2cc1aa067"
      },
      "source": [
        "my_terrier.speed\n",
        "#speed of dog before running\n",
        "#note that speed was defined in the parent/super class named Animal"
      ],
      "execution_count": 27,
      "outputs": [
        {
          "output_type": "execute_result",
          "data": {
            "text/plain": [
              "0"
            ]
          },
          "metadata": {
            "tags": []
          },
          "execution_count": 27
        }
      ]
    },
    {
      "cell_type": "code",
      "metadata": {
        "colab": {
          "base_uri": "https://localhost:8080/"
        },
        "id": "EggF94YHKsz6",
        "outputId": "58466442-d5e8-4336-d829-580f83d38f3c"
      },
      "source": [
        "my_terrier.run()\n",
        "my_terrier.speed\n",
        "#speed of dog after running\n",
        "#note that the method run() was defined in the parent/super class named Animal"
      ],
      "execution_count": 28,
      "outputs": [
        {
          "output_type": "execute_result",
          "data": {
            "text/plain": [
              "10"
            ]
          },
          "metadata": {
            "tags": []
          },
          "execution_count": 28
        }
      ]
    },
    {
      "cell_type": "code",
      "metadata": {
        "colab": {
          "base_uri": "https://localhost:8080/"
        },
        "id": "QUrmYsxjMaD_",
        "outputId": "869629ea-359a-4eaf-ae7a-b8107313a72c"
      },
      "source": [
        "import datetime\n",
        "\n",
        "my_date = datetime.datetime(2018,12, 24) \n",
        "#my_date is an instance of the datetime class\n",
        "\n",
        "print(my_date.isoweekday()) # isoweekday is a function of the datetime class\n",
        "print(my_date.year) # year is an attribute of the datetime class"
      ],
      "execution_count": 29,
      "outputs": [
        {
          "output_type": "stream",
          "text": [
            "1\n",
            "2018\n"
          ],
          "name": "stdout"
        }
      ]
    },
    {
      "cell_type": "markdown",
      "metadata": {
        "id": "hpipNbY5PEPI"
      },
      "source": [
        "# The  if statement"
      ]
    },
    {
      "cell_type": "code",
      "metadata": {
        "id": "AhFvYWY4NzXg"
      },
      "source": [
        "age=35\n",
        "\n",
        "if age>18: #the other comparisons are >=, <=, <, ==\n",
        "    print(\"You are older than 18.\")"
      ],
      "execution_count": null,
      "outputs": []
    },
    {
      "cell_type": "code",
      "metadata": {
        "id": "5gLN9zz0QGay"
      },
      "source": [
        "age=17\n",
        "\n",
        "if age>18: \n",
        "    print(\"You are older than 18.\")\n",
        "else:\n",
        "    print('You are not older than 18.')"
      ],
      "execution_count": null,
      "outputs": []
    },
    {
      "cell_type": "code",
      "metadata": {
        "id": "dSfjEcaVQmxf"
      },
      "source": [
        "age=100\n",
        "\n",
        "if age>18:\n",
        "    print('You are older than 18.')\n",
        "elif age==100:\n",
        "    print('You are really old!')\n",
        "else:\n",
        "    print('You are not older than 18.')"
      ],
      "execution_count": null,
      "outputs": []
    },
    {
      "cell_type": "code",
      "metadata": {
        "colab": {
          "base_uri": "https://localhost:8080/"
        },
        "id": "LBVL3uOlQ-qi",
        "outputId": "bf8cc861-e4bd-432a-9091-e7812e4a74c0"
      },
      "source": [
        "age=100\n",
        "\n",
        "if age==100:\n",
        "    print('You are really old!')\n",
        "elif age>18:\n",
        "    print('You are older than 18.')\n",
        "else:\n",
        "    print('You are not older than 18.')"
      ],
      "execution_count": 39,
      "outputs": [
        {
          "output_type": "stream",
          "text": [
            "You are really old!\n"
          ],
          "name": "stdout"
        }
      ]
    },
    {
      "cell_type": "code",
      "metadata": {
        "colab": {
          "base_uri": "https://localhost:8080/"
        },
        "id": "q0ZlTM9iRQ2M",
        "outputId": "8e6e4760-ae5b-4a27-feb4-a9ebe7363aaa"
      },
      "source": [
        "this=1\n",
        "that=3\n",
        "something=4\n",
        "\n",
        "if (this==1 or that>2) and something<5:\n",
        "    print(\"WOW!\")"
      ],
      "execution_count": 35,
      "outputs": [
        {
          "output_type": "stream",
          "text": [
            "WOW!\n"
          ],
          "name": "stdout"
        }
      ]
    },
    {
      "cell_type": "markdown",
      "metadata": {
        "id": "6b_PMvdoS2vh"
      },
      "source": [
        "# The for loop"
      ]
    },
    {
      "cell_type": "code",
      "metadata": {
        "colab": {
          "base_uri": "https://localhost:8080/"
        },
        "id": "vBMkCjDFS8AW",
        "outputId": "cc444a34-6c91-4d59-9257-2af2082cf4bb"
      },
      "source": [
        "people = ['Bob', 'Eve', 'Steve', 'Tim']\n",
        "\n",
        "for person in people:\n",
        "    print(person)\n",
        "    \n",
        "print(person) #this line prints Tim since it is the final item."
      ],
      "execution_count": 40,
      "outputs": [
        {
          "output_type": "stream",
          "text": [
            "Bob\n",
            "Eve\n",
            "Steve\n",
            "Tim\n",
            "Tim\n"
          ],
          "name": "stdout"
        }
      ]
    },
    {
      "cell_type": "code",
      "metadata": {
        "id": "hR54aqd_U8Rm"
      },
      "source": [
        "for person in people:\n",
        "    if person =='Eve':\n",
        "        print(person)\n",
        "        \n",
        "    print(person)"
      ],
      "execution_count": null,
      "outputs": []
    },
    {
      "cell_type": "code",
      "metadata": {
        "id": "ZRWjJqHaVxSV"
      },
      "source": [
        "for person in people:\n",
        "    if person =='Eve':\n",
        "        print(person)\n",
        "        break\n",
        "    print(person)"
      ],
      "execution_count": null,
      "outputs": []
    },
    {
      "cell_type": "code",
      "metadata": {
        "id": "Kehz3wlOV9Gz"
      },
      "source": [
        "for person in people:\n",
        "    if person =='Eve':\n",
        "        print(person)"
      ],
      "execution_count": null,
      "outputs": []
    },
    {
      "cell_type": "code",
      "metadata": {
        "id": "wg3FMtCAWKck"
      },
      "source": [
        "for person in people:\n",
        "    if person =='Eve':\n",
        "        continue        \n",
        "    print(person)"
      ],
      "execution_count": null,
      "outputs": []
    },
    {
      "cell_type": "markdown",
      "metadata": {
        "id": "C2W4utiZWjzF"
      },
      "source": [
        "# The while loop"
      ]
    },
    {
      "cell_type": "code",
      "metadata": {
        "id": "yQ97bAItWWCe"
      },
      "source": [
        "counter = 0\n",
        "\n",
        "while counter<10:\n",
        "    print(counter)\n",
        "    counter+=1 # this is the same as counter = counter + 1"
      ],
      "execution_count": null,
      "outputs": []
    },
    {
      "cell_type": "code",
      "metadata": {
        "id": "Fr4h8e_KXthJ"
      },
      "source": [
        "text = 'This is some text'\n",
        "\n",
        "print(text[5:])"
      ],
      "execution_count": null,
      "outputs": []
    },
    {
      "cell_type": "code",
      "metadata": {
        "id": "Sm60hUDJX6ac"
      },
      "source": [
        "print(text[:5])"
      ],
      "execution_count": null,
      "outputs": []
    },
    {
      "cell_type": "code",
      "metadata": {
        "id": "sK97kp-9X__D"
      },
      "source": [
        "print(text[:-5])"
      ],
      "execution_count": null,
      "outputs": []
    },
    {
      "cell_type": "code",
      "metadata": {
        "id": "Whc_aL8LYKbl"
      },
      "source": [
        "print(text[5:-5])"
      ],
      "execution_count": null,
      "outputs": []
    },
    {
      "cell_type": "code",
      "metadata": {
        "id": "4C82J6PoYNUl"
      },
      "source": [
        ""
      ],
      "execution_count": null,
      "outputs": []
    },
    {
      "cell_type": "markdown",
      "metadata": {
        "id": "CMUgQ4GdHH0y"
      },
      "source": [
        "Slicing!**bold text**"
      ]
    },
    {
      "cell_type": "code",
      "metadata": {
        "colab": {
          "base_uri": "https://localhost:8080/"
        },
        "id": "8S52HsFXGzkJ",
        "outputId": "0fb392ed-56e6-416d-9be2-c775d4af2338"
      },
      "source": [
        "text = 'This is some text'\r\n",
        "print(text[5:])\r\n",
        "print(text[:5])\r\n",
        "print(text[:-5])\r\n",
        "print(text[5:-5])"
      ],
      "execution_count": 42,
      "outputs": [
        {
          "output_type": "stream",
          "text": [
            "is some text\n",
            "This \n",
            "This is some\n",
            "is some\n"
          ],
          "name": "stdout"
        }
      ]
    }
  ]
}